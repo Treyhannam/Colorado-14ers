{
 "cells": [
  {
   "cell_type": "code",
   "execution_count": 1,
   "id": "7b7b78cb-8a7e-4d03-9057-c9c78e16c241",
   "metadata": {},
   "outputs": [],
   "source": [
    "# make a polar plot\n",
    "# find the strongest predicter of 14er popularity, mayber even at a class (difficultly level)\n",
    "# learn git with jupyter lab\n",
    "# learn lyinting with jupyter lab\n",
    "# learn about classes\n",
    "\n",
    "# make a heatmap of county populations and landmark each 14er with hue determined by popularity bins\n",
    "\n",
    "##### Plan ####\n",
    "# make a polar plot and then apply git and lynting, afterwards try predictive modeling"
   ]
  },
  {
   "cell_type": "code",
   "execution_count": 2,
   "id": "b1aaeb93-f55c-4c0d-a1de-4c0409a32b79",
   "metadata": {},
   "outputs": [],
   "source": [
    "import pandas as pd\n",
    "import opendatasets as od\n",
    "import os\n",
    "\n",
    "import plotly.express as px\n",
    "\n",
    "import plotly.graph_objects as go"
   ]
  },
  {
   "cell_type": "markdown",
   "id": "9a91bd82-af1e-486d-b164-aa42cf0a7ea5",
   "metadata": {
    "tags": []
   },
   "source": [
    "### Import Data"
   ]
  },
  {
   "cell_type": "code",
   "execution_count": 3,
   "id": "6e14f6f4-365a-4458-9699-0c014646ac87",
   "metadata": {},
   "outputs": [],
   "source": [
    "kaggleDict = {\"username\":\"treyhannam\",\n",
    "              \"key\":\"8f7cad06e5ba91e63b47361cb032abc6\"}"
   ]
  },
  {
   "cell_type": "code",
   "execution_count": 4,
   "id": "fcfcef54-0161-4977-886b-edb2e743bd6f",
   "metadata": {},
   "outputs": [],
   "source": [
    "# od.download('https://www.kaggle.com/mikeshout/14erpeaks')"
   ]
  },
  {
   "cell_type": "code",
   "execution_count": 5,
   "id": "acd06836-bb5d-4517-8f1f-296af7622eb6",
   "metadata": {},
   "outputs": [],
   "source": [
    "# os.rename('14er.csv', 'fourteener.csv')"
   ]
  },
  {
   "cell_type": "code",
   "execution_count": 6,
   "id": "316a9157-0149-459d-bf3c-c288b8ce302b",
   "metadata": {},
   "outputs": [],
   "source": [
    "df = pd.read_csv(r'fourteener.csv',encoding='ANSI', index_col='ID')"
   ]
  },
  {
   "cell_type": "code",
   "execution_count": 7,
   "id": "9281a664-ddf0-403d-ae74-80c1defe931a",
   "metadata": {},
   "outputs": [
    {
     "data": {
      "text/html": [
       "<div>\n",
       "<style scoped>\n",
       "    .dataframe tbody tr th:only-of-type {\n",
       "        vertical-align: middle;\n",
       "    }\n",
       "\n",
       "    .dataframe tbody tr th {\n",
       "        vertical-align: top;\n",
       "    }\n",
       "\n",
       "    .dataframe thead th {\n",
       "        text-align: right;\n",
       "    }\n",
       "</style>\n",
       "<table border=\"1\" class=\"dataframe\">\n",
       "  <thead>\n",
       "    <tr style=\"text-align: right;\">\n",
       "      <th></th>\n",
       "      <th>Mountain Peak</th>\n",
       "      <th>Mountain Range</th>\n",
       "      <th>Elevation_ft</th>\n",
       "      <th>fourteener</th>\n",
       "      <th>Prominence_ft</th>\n",
       "      <th>Isolation_mi</th>\n",
       "      <th>Lat</th>\n",
       "      <th>Long</th>\n",
       "      <th>Standard Route</th>\n",
       "      <th>Distance_mi</th>\n",
       "      <th>Elevation Gain_ft</th>\n",
       "      <th>Difficulty</th>\n",
       "      <th>Traffic Low</th>\n",
       "      <th>Traffic High</th>\n",
       "      <th>photo</th>\n",
       "    </tr>\n",
       "    <tr>\n",
       "      <th>ID</th>\n",
       "      <th></th>\n",
       "      <th></th>\n",
       "      <th></th>\n",
       "      <th></th>\n",
       "      <th></th>\n",
       "      <th></th>\n",
       "      <th></th>\n",
       "      <th></th>\n",
       "      <th></th>\n",
       "      <th></th>\n",
       "      <th></th>\n",
       "      <th></th>\n",
       "      <th></th>\n",
       "      <th></th>\n",
       "      <th></th>\n",
       "    </tr>\n",
       "  </thead>\n",
       "  <tbody>\n",
       "    <tr>\n",
       "      <th>1</th>\n",
       "      <td>Mount Elbert</td>\n",
       "      <td>Sawatch Range</td>\n",
       "      <td>14440</td>\n",
       "      <td>Y</td>\n",
       "      <td>9093</td>\n",
       "      <td>670.00</td>\n",
       "      <td>39.1178</td>\n",
       "      <td>-106.4454</td>\n",
       "      <td>Northeast Ridge</td>\n",
       "      <td>9.50</td>\n",
       "      <td>4700</td>\n",
       "      <td>Class 1</td>\n",
       "      <td>20000</td>\n",
       "      <td>25000</td>\n",
       "      <td>https://www.14ers.com/photos/mtelbert/peakphot...</td>\n",
       "    </tr>\n",
       "    <tr>\n",
       "      <th>2</th>\n",
       "      <td>Mount Massive</td>\n",
       "      <td>Sawatch Range</td>\n",
       "      <td>14428</td>\n",
       "      <td>Y</td>\n",
       "      <td>1961</td>\n",
       "      <td>5.06</td>\n",
       "      <td>39.1875</td>\n",
       "      <td>-106.4757</td>\n",
       "      <td>East Slopes</td>\n",
       "      <td>14.50</td>\n",
       "      <td>4500</td>\n",
       "      <td>Class 2</td>\n",
       "      <td>7000</td>\n",
       "      <td>10000</td>\n",
       "      <td>https://www.14ers.com/photos/mtmassive/peakpho...</td>\n",
       "    </tr>\n",
       "    <tr>\n",
       "      <th>3</th>\n",
       "      <td>Mount Harvard</td>\n",
       "      <td>Sawatch Range</td>\n",
       "      <td>14421</td>\n",
       "      <td>Y</td>\n",
       "      <td>2360</td>\n",
       "      <td>14.93</td>\n",
       "      <td>38.9244</td>\n",
       "      <td>-106.3207</td>\n",
       "      <td>South Slopes</td>\n",
       "      <td>14.00</td>\n",
       "      <td>4600</td>\n",
       "      <td>Class 2</td>\n",
       "      <td>5000</td>\n",
       "      <td>7000</td>\n",
       "      <td>https://www.14ers.com/photos/harvardgroup/peak...</td>\n",
       "    </tr>\n",
       "    <tr>\n",
       "      <th>4</th>\n",
       "      <td>Blanca Peak</td>\n",
       "      <td>Sangre de Cristo Range</td>\n",
       "      <td>14351</td>\n",
       "      <td>Y</td>\n",
       "      <td>5326</td>\n",
       "      <td>103.40</td>\n",
       "      <td>37.5775</td>\n",
       "      <td>-105.4856</td>\n",
       "      <td>Northwest Ridge</td>\n",
       "      <td>17.00</td>\n",
       "      <td>6500</td>\n",
       "      <td>Hard Class 2</td>\n",
       "      <td>1000</td>\n",
       "      <td>3000</td>\n",
       "      <td>https://www.14ers.com/photos/blancagroup/peakp...</td>\n",
       "    </tr>\n",
       "    <tr>\n",
       "      <th>5</th>\n",
       "      <td>La Plata Peak</td>\n",
       "      <td>Sawatch Range</td>\n",
       "      <td>14343</td>\n",
       "      <td>Y</td>\n",
       "      <td>1836</td>\n",
       "      <td>6.28</td>\n",
       "      <td>39.0294</td>\n",
       "      <td>-106.4729</td>\n",
       "      <td>Northwest Ridge</td>\n",
       "      <td>9.25</td>\n",
       "      <td>4500</td>\n",
       "      <td>Class 2</td>\n",
       "      <td>5000</td>\n",
       "      <td>7000</td>\n",
       "      <td>https://www.14ers.com/photos/laplatapeak/peakp...</td>\n",
       "    </tr>\n",
       "  </tbody>\n",
       "</table>\n",
       "</div>"
      ],
      "text/plain": [
       "    Mountain Peak          Mountain Range  Elevation_ft fourteener  \\\n",
       "ID                                                                   \n",
       "1    Mount Elbert           Sawatch Range         14440          Y   \n",
       "2   Mount Massive           Sawatch Range         14428          Y   \n",
       "3   Mount Harvard           Sawatch Range         14421          Y   \n",
       "4     Blanca Peak  Sangre de Cristo Range         14351          Y   \n",
       "5   La Plata Peak           Sawatch Range         14343          Y   \n",
       "\n",
       "    Prominence_ft  Isolation_mi      Lat      Long    Standard Route  \\\n",
       "ID                                                                     \n",
       "1            9093        670.00  39.1178 -106.4454  Northeast Ridge    \n",
       "2            1961          5.06  39.1875 -106.4757      East Slopes    \n",
       "3            2360         14.93  38.9244 -106.3207     South Slopes    \n",
       "4            5326        103.40  37.5775 -105.4856  Northwest Ridge    \n",
       "5            1836          6.28  39.0294 -106.4729  Northwest Ridge    \n",
       "\n",
       "    Distance_mi  Elevation Gain_ft    Difficulty  Traffic Low  Traffic High  \\\n",
       "ID                                                                            \n",
       "1          9.50               4700       Class 1        20000         25000   \n",
       "2         14.50               4500       Class 2         7000         10000   \n",
       "3         14.00               4600       Class 2         5000          7000   \n",
       "4         17.00               6500  Hard Class 2         1000          3000   \n",
       "5          9.25               4500       Class 2         5000          7000   \n",
       "\n",
       "                                                photo  \n",
       "ID                                                     \n",
       "1   https://www.14ers.com/photos/mtelbert/peakphot...  \n",
       "2   https://www.14ers.com/photos/mtmassive/peakpho...  \n",
       "3   https://www.14ers.com/photos/harvardgroup/peak...  \n",
       "4   https://www.14ers.com/photos/blancagroup/peakp...  \n",
       "5   https://www.14ers.com/photos/laplatapeak/peakp...  "
      ]
     },
     "execution_count": 7,
     "metadata": {},
     "output_type": "execute_result"
    }
   ],
   "source": [
    "df.head()"
   ]
  },
  {
   "cell_type": "markdown",
   "id": "26e1f392-64ab-4bba-a76c-6a17915a6b2a",
   "metadata": {},
   "source": [
    "### Categorize Variables come back and optimize"
   ]
  },
  {
   "cell_type": "code",
   "execution_count": 8,
   "id": "688e9f87-2f4b-4e2b-a087-bee8d5f4bb16",
   "metadata": {},
   "outputs": [],
   "source": [
    "categorized_df = df.copy()"
   ]
  },
  {
   "cell_type": "markdown",
   "id": "dbfeb0ae-23ea-461b-84b6-00db00a94945",
   "metadata": {},
   "source": [
    "##### Calss Difficulty"
   ]
  },
  {
   "cell_type": "code",
   "execution_count": 9,
   "id": "d5d77b61-47ce-46c9-9527-14d80caaf27d",
   "metadata": {},
   "outputs": [],
   "source": [
    "categorizeClassRank = {\n",
    "    'Class 1' : 1,\n",
    "    'Class 2' : 2,\n",
    "    'Hard Class 2' : 3,\n",
    "    'Easy Class 3' : 4,\n",
    "    'Class 3' : 5,\n",
    "    'Hard Class 3' : 6,\n",
    "    'Class 4' : 7\n",
    "}"
   ]
  },
  {
   "cell_type": "code",
   "execution_count": 10,
   "id": "9cb38659-6a37-4173-98ab-2105dfcc466c",
   "metadata": {},
   "outputs": [
    {
     "name": "stderr",
     "output_type": "stream",
     "text": [
      "C:\\Users\\Trey\\Desktop\\Python\\14er Project\\14ervenv\\lib\\site-packages\\pandas\\core\\indexing.py:1732: SettingWithCopyWarning: \n",
      "A value is trying to be set on a copy of a slice from a DataFrame\n",
      "\n",
      "See the caveats in the documentation: https://pandas.pydata.org/pandas-docs/stable/user_guide/indexing.html#returning-a-view-versus-a-copy\n",
      "  self._setitem_single_block(indexer, value, name)\n"
     ]
    }
   ],
   "source": [
    "for k,v in categorizeClassRank.items():\n",
    "    categorized_df['Difficulty'].loc[ categorized_df['Difficulty'] == k] = v"
   ]
  },
  {
   "cell_type": "markdown",
   "id": "689f4690-8355-48ad-9aa5-597f72ff6a29",
   "metadata": {
    "tags": []
   },
   "source": [
    "##### Trail Distance (Distance_mi)"
   ]
  },
  {
   "cell_type": "code",
   "execution_count": 11,
   "id": "0db9bef2-aad0-48f9-b86a-b586efca4af6",
   "metadata": {},
   "outputs": [],
   "source": [
    "# normalize then scale to categorical variable\n",
    "categorized_df['Distance_mi'] = 7*( categorized_df['Distance_mi']/ categorized_df['Distance_mi'].max() )"
   ]
  },
  {
   "cell_type": "markdown",
   "id": "37cd9b29-0a49-437c-9b0c-06668c8cdc89",
   "metadata": {
    "tags": []
   },
   "source": [
    "#### Elevation"
   ]
  },
  {
   "cell_type": "code",
   "execution_count": 12,
   "id": "24c1a65e-d40c-4c9e-87eb-337c8f805ec2",
   "metadata": {},
   "outputs": [],
   "source": [
    "categorized_df['Elevation Gain_ft'] = 7*( categorized_df['Elevation Gain_ft']/ categorized_df['Elevation Gain_ft'].max() )"
   ]
  },
  {
   "cell_type": "markdown",
   "id": "1fd1fae4-345e-4776-b4e0-20944b7d1549",
   "metadata": {},
   "source": [
    "##### Visitors"
   ]
  },
  {
   "cell_type": "code",
   "execution_count": 13,
   "id": "48c8301a-0ab3-4eab-a8d6-1b18cd79cac6",
   "metadata": {},
   "outputs": [],
   "source": [
    "categorized_df['Traffic High'] = 7*( categorized_df['Traffic High']/ categorized_df['Traffic High'].max() )"
   ]
  },
  {
   "cell_type": "markdown",
   "id": "137c77ce-2ac4-4b47-bf0e-7b47034e9988",
   "metadata": {},
   "source": [
    "### Plot 14ers"
   ]
  },
  {
   "cell_type": "code",
   "execution_count": 14,
   "id": "f202b2c7-4ed0-48a0-b34c-12ae8e98a500",
   "metadata": {},
   "outputs": [
    {
     "data": {
      "text/html": [
       "<div>\n",
       "<style scoped>\n",
       "    .dataframe tbody tr th:only-of-type {\n",
       "        vertical-align: middle;\n",
       "    }\n",
       "\n",
       "    .dataframe tbody tr th {\n",
       "        vertical-align: top;\n",
       "    }\n",
       "\n",
       "    .dataframe thead th {\n",
       "        text-align: right;\n",
       "    }\n",
       "</style>\n",
       "<table border=\"1\" class=\"dataframe\">\n",
       "  <thead>\n",
       "    <tr style=\"text-align: right;\">\n",
       "      <th></th>\n",
       "      <th>Mountain Peak</th>\n",
       "      <th>Mountain Range</th>\n",
       "      <th>Elevation_ft</th>\n",
       "      <th>fourteener</th>\n",
       "      <th>Prominence_ft</th>\n",
       "      <th>Isolation_mi</th>\n",
       "      <th>Lat</th>\n",
       "      <th>Long</th>\n",
       "      <th>Standard Route</th>\n",
       "      <th>Distance_mi</th>\n",
       "      <th>Elevation Gain_ft</th>\n",
       "      <th>Difficulty</th>\n",
       "      <th>Traffic Low</th>\n",
       "      <th>Traffic High</th>\n",
       "      <th>photo</th>\n",
       "    </tr>\n",
       "    <tr>\n",
       "      <th>ID</th>\n",
       "      <th></th>\n",
       "      <th></th>\n",
       "      <th></th>\n",
       "      <th></th>\n",
       "      <th></th>\n",
       "      <th></th>\n",
       "      <th></th>\n",
       "      <th></th>\n",
       "      <th></th>\n",
       "      <th></th>\n",
       "      <th></th>\n",
       "      <th></th>\n",
       "      <th></th>\n",
       "      <th></th>\n",
       "      <th></th>\n",
       "    </tr>\n",
       "  </thead>\n",
       "  <tbody>\n",
       "    <tr>\n",
       "      <th>15</th>\n",
       "      <td>Longs Peak</td>\n",
       "      <td>Front Range</td>\n",
       "      <td>14259</td>\n",
       "      <td>Y</td>\n",
       "      <td>2940</td>\n",
       "      <td>43.6</td>\n",
       "      <td>40.255</td>\n",
       "      <td>-105.6151</td>\n",
       "      <td>Keyhole Route</td>\n",
       "      <td>3.903846</td>\n",
       "      <td>4.76</td>\n",
       "      <td>5</td>\n",
       "      <td>15000</td>\n",
       "      <td>3.5</td>\n",
       "      <td>https://www.14ers.com/photos/longspeak/peakpho...</td>\n",
       "    </tr>\n",
       "  </tbody>\n",
       "</table>\n",
       "</div>"
      ],
      "text/plain": [
       "   Mountain Peak Mountain Range  Elevation_ft fourteener  Prominence_ft  \\\n",
       "ID                                                                        \n",
       "15    Longs Peak    Front Range         14259          Y           2940   \n",
       "\n",
       "    Isolation_mi     Lat      Long  Standard Route  Distance_mi  \\\n",
       "ID                                                                \n",
       "15          43.6  40.255 -105.6151  Keyhole Route      3.903846   \n",
       "\n",
       "    Elevation Gain_ft Difficulty  Traffic Low  Traffic High  \\\n",
       "ID                                                            \n",
       "15               4.76          5        15000           3.5   \n",
       "\n",
       "                                                photo  \n",
       "ID                                                     \n",
       "15  https://www.14ers.com/photos/longspeak/peakpho...  "
      ]
     },
     "execution_count": 14,
     "metadata": {},
     "output_type": "execute_result"
    }
   ],
   "source": [
    "longs_peak = categorized_df.loc[ categorized_df['Mountain Peak'] == 'Longs Peak']\n",
    "longs_peak"
   ]
  },
  {
   "cell_type": "code",
   "execution_count": 40,
   "id": "3b90ca61-9454-4933-9149-625c7f5371fc",
   "metadata": {},
   "outputs": [
    {
     "data": {
      "application/vnd.plotly.v1+json": {
       "config": {
        "plotlyServerURL": "https://plot.ly"
       },
       "data": [
        {
         "fill": "toself",
         "line": {
          "shape": "spline"
         },
         "mode": "lines",
         "name": "Longs Peak",
         "r": [
          5,
          3.903846153846154,
          4.760000000000001,
          3.5,
          5
         ],
         "subplot": "polar",
         "theta": [
          "Difficulty",
          "Distance (mi)",
          "Elevation Gain (ft)",
          "Traffic High",
          "Difficulty"
         ],
         "type": "scatterpolar"
        }
       ],
       "layout": {
        "autosize": true,
        "polar": {
         "angularaxis": {
          "rotation": 47.16777285260558,
          "type": "category"
         },
         "radialaxis": {
          "autorange": false,
          "range": [
           0,
           7
          ],
          "showticklabels": false,
          "type": "linear",
          "visible": true
         }
        },
        "showlegend": true,
        "template": {
         "data": {
          "bar": [
           {
            "error_x": {
             "color": "#2a3f5f"
            },
            "error_y": {
             "color": "#2a3f5f"
            },
            "marker": {
             "line": {
              "color": "#E5ECF6",
              "width": 0.5
             },
             "pattern": {
              "fillmode": "overlay",
              "size": 10,
              "solidity": 0.2
             }
            },
            "type": "bar"
           }
          ],
          "barpolar": [
           {
            "marker": {
             "line": {
              "color": "#E5ECF6",
              "width": 0.5
             },
             "pattern": {
              "fillmode": "overlay",
              "size": 10,
              "solidity": 0.2
             }
            },
            "type": "barpolar"
           }
          ],
          "carpet": [
           {
            "aaxis": {
             "endlinecolor": "#2a3f5f",
             "gridcolor": "white",
             "linecolor": "white",
             "minorgridcolor": "white",
             "startlinecolor": "#2a3f5f"
            },
            "baxis": {
             "endlinecolor": "#2a3f5f",
             "gridcolor": "white",
             "linecolor": "white",
             "minorgridcolor": "white",
             "startlinecolor": "#2a3f5f"
            },
            "type": "carpet"
           }
          ],
          "choropleth": [
           {
            "colorbar": {
             "outlinewidth": 0,
             "ticks": ""
            },
            "type": "choropleth"
           }
          ],
          "contour": [
           {
            "colorbar": {
             "outlinewidth": 0,
             "ticks": ""
            },
            "colorscale": [
             [
              0,
              "#0d0887"
             ],
             [
              0.1111111111111111,
              "#46039f"
             ],
             [
              0.2222222222222222,
              "#7201a8"
             ],
             [
              0.3333333333333333,
              "#9c179e"
             ],
             [
              0.4444444444444444,
              "#bd3786"
             ],
             [
              0.5555555555555556,
              "#d8576b"
             ],
             [
              0.6666666666666666,
              "#ed7953"
             ],
             [
              0.7777777777777778,
              "#fb9f3a"
             ],
             [
              0.8888888888888888,
              "#fdca26"
             ],
             [
              1,
              "#f0f921"
             ]
            ],
            "type": "contour"
           }
          ],
          "contourcarpet": [
           {
            "colorbar": {
             "outlinewidth": 0,
             "ticks": ""
            },
            "type": "contourcarpet"
           }
          ],
          "heatmap": [
           {
            "colorbar": {
             "outlinewidth": 0,
             "ticks": ""
            },
            "colorscale": [
             [
              0,
              "#0d0887"
             ],
             [
              0.1111111111111111,
              "#46039f"
             ],
             [
              0.2222222222222222,
              "#7201a8"
             ],
             [
              0.3333333333333333,
              "#9c179e"
             ],
             [
              0.4444444444444444,
              "#bd3786"
             ],
             [
              0.5555555555555556,
              "#d8576b"
             ],
             [
              0.6666666666666666,
              "#ed7953"
             ],
             [
              0.7777777777777778,
              "#fb9f3a"
             ],
             [
              0.8888888888888888,
              "#fdca26"
             ],
             [
              1,
              "#f0f921"
             ]
            ],
            "type": "heatmap"
           }
          ],
          "heatmapgl": [
           {
            "colorbar": {
             "outlinewidth": 0,
             "ticks": ""
            },
            "colorscale": [
             [
              0,
              "#0d0887"
             ],
             [
              0.1111111111111111,
              "#46039f"
             ],
             [
              0.2222222222222222,
              "#7201a8"
             ],
             [
              0.3333333333333333,
              "#9c179e"
             ],
             [
              0.4444444444444444,
              "#bd3786"
             ],
             [
              0.5555555555555556,
              "#d8576b"
             ],
             [
              0.6666666666666666,
              "#ed7953"
             ],
             [
              0.7777777777777778,
              "#fb9f3a"
             ],
             [
              0.8888888888888888,
              "#fdca26"
             ],
             [
              1,
              "#f0f921"
             ]
            ],
            "type": "heatmapgl"
           }
          ],
          "histogram": [
           {
            "marker": {
             "pattern": {
              "fillmode": "overlay",
              "size": 10,
              "solidity": 0.2
             }
            },
            "type": "histogram"
           }
          ],
          "histogram2d": [
           {
            "colorbar": {
             "outlinewidth": 0,
             "ticks": ""
            },
            "colorscale": [
             [
              0,
              "#0d0887"
             ],
             [
              0.1111111111111111,
              "#46039f"
             ],
             [
              0.2222222222222222,
              "#7201a8"
             ],
             [
              0.3333333333333333,
              "#9c179e"
             ],
             [
              0.4444444444444444,
              "#bd3786"
             ],
             [
              0.5555555555555556,
              "#d8576b"
             ],
             [
              0.6666666666666666,
              "#ed7953"
             ],
             [
              0.7777777777777778,
              "#fb9f3a"
             ],
             [
              0.8888888888888888,
              "#fdca26"
             ],
             [
              1,
              "#f0f921"
             ]
            ],
            "type": "histogram2d"
           }
          ],
          "histogram2dcontour": [
           {
            "colorbar": {
             "outlinewidth": 0,
             "ticks": ""
            },
            "colorscale": [
             [
              0,
              "#0d0887"
             ],
             [
              0.1111111111111111,
              "#46039f"
             ],
             [
              0.2222222222222222,
              "#7201a8"
             ],
             [
              0.3333333333333333,
              "#9c179e"
             ],
             [
              0.4444444444444444,
              "#bd3786"
             ],
             [
              0.5555555555555556,
              "#d8576b"
             ],
             [
              0.6666666666666666,
              "#ed7953"
             ],
             [
              0.7777777777777778,
              "#fb9f3a"
             ],
             [
              0.8888888888888888,
              "#fdca26"
             ],
             [
              1,
              "#f0f921"
             ]
            ],
            "type": "histogram2dcontour"
           }
          ],
          "mesh3d": [
           {
            "colorbar": {
             "outlinewidth": 0,
             "ticks": ""
            },
            "type": "mesh3d"
           }
          ],
          "parcoords": [
           {
            "line": {
             "colorbar": {
              "outlinewidth": 0,
              "ticks": ""
             }
            },
            "type": "parcoords"
           }
          ],
          "pie": [
           {
            "automargin": true,
            "type": "pie"
           }
          ],
          "scatter": [
           {
            "marker": {
             "colorbar": {
              "outlinewidth": 0,
              "ticks": ""
             }
            },
            "type": "scatter"
           }
          ],
          "scatter3d": [
           {
            "line": {
             "colorbar": {
              "outlinewidth": 0,
              "ticks": ""
             }
            },
            "marker": {
             "colorbar": {
              "outlinewidth": 0,
              "ticks": ""
             }
            },
            "type": "scatter3d"
           }
          ],
          "scattercarpet": [
           {
            "marker": {
             "colorbar": {
              "outlinewidth": 0,
              "ticks": ""
             }
            },
            "type": "scattercarpet"
           }
          ],
          "scattergeo": [
           {
            "marker": {
             "colorbar": {
              "outlinewidth": 0,
              "ticks": ""
             }
            },
            "type": "scattergeo"
           }
          ],
          "scattergl": [
           {
            "marker": {
             "colorbar": {
              "outlinewidth": 0,
              "ticks": ""
             }
            },
            "type": "scattergl"
           }
          ],
          "scattermapbox": [
           {
            "marker": {
             "colorbar": {
              "outlinewidth": 0,
              "ticks": ""
             }
            },
            "type": "scattermapbox"
           }
          ],
          "scatterpolar": [
           {
            "marker": {
             "colorbar": {
              "outlinewidth": 0,
              "ticks": ""
             }
            },
            "type": "scatterpolar"
           }
          ],
          "scatterpolargl": [
           {
            "marker": {
             "colorbar": {
              "outlinewidth": 0,
              "ticks": ""
             }
            },
            "type": "scatterpolargl"
           }
          ],
          "scatterternary": [
           {
            "marker": {
             "colorbar": {
              "outlinewidth": 0,
              "ticks": ""
             }
            },
            "type": "scatterternary"
           }
          ],
          "surface": [
           {
            "colorbar": {
             "outlinewidth": 0,
             "ticks": ""
            },
            "colorscale": [
             [
              0,
              "#0d0887"
             ],
             [
              0.1111111111111111,
              "#46039f"
             ],
             [
              0.2222222222222222,
              "#7201a8"
             ],
             [
              0.3333333333333333,
              "#9c179e"
             ],
             [
              0.4444444444444444,
              "#bd3786"
             ],
             [
              0.5555555555555556,
              "#d8576b"
             ],
             [
              0.6666666666666666,
              "#ed7953"
             ],
             [
              0.7777777777777778,
              "#fb9f3a"
             ],
             [
              0.8888888888888888,
              "#fdca26"
             ],
             [
              1,
              "#f0f921"
             ]
            ],
            "type": "surface"
           }
          ],
          "table": [
           {
            "cells": {
             "fill": {
              "color": "#EBF0F8"
             },
             "line": {
              "color": "white"
             }
            },
            "header": {
             "fill": {
              "color": "#C8D4E3"
             },
             "line": {
              "color": "white"
             }
            },
            "type": "table"
           }
          ]
         },
         "layout": {
          "annotationdefaults": {
           "arrowcolor": "#2a3f5f",
           "arrowhead": 0,
           "arrowwidth": 1
          },
          "autotypenumbers": "strict",
          "coloraxis": {
           "colorbar": {
            "outlinewidth": 0,
            "ticks": ""
           }
          },
          "colorscale": {
           "diverging": [
            [
             0,
             "#8e0152"
            ],
            [
             0.1,
             "#c51b7d"
            ],
            [
             0.2,
             "#de77ae"
            ],
            [
             0.3,
             "#f1b6da"
            ],
            [
             0.4,
             "#fde0ef"
            ],
            [
             0.5,
             "#f7f7f7"
            ],
            [
             0.6,
             "#e6f5d0"
            ],
            [
             0.7,
             "#b8e186"
            ],
            [
             0.8,
             "#7fbc41"
            ],
            [
             0.9,
             "#4d9221"
            ],
            [
             1,
             "#276419"
            ]
           ],
           "sequential": [
            [
             0,
             "#0d0887"
            ],
            [
             0.1111111111111111,
             "#46039f"
            ],
            [
             0.2222222222222222,
             "#7201a8"
            ],
            [
             0.3333333333333333,
             "#9c179e"
            ],
            [
             0.4444444444444444,
             "#bd3786"
            ],
            [
             0.5555555555555556,
             "#d8576b"
            ],
            [
             0.6666666666666666,
             "#ed7953"
            ],
            [
             0.7777777777777778,
             "#fb9f3a"
            ],
            [
             0.8888888888888888,
             "#fdca26"
            ],
            [
             1,
             "#f0f921"
            ]
           ],
           "sequentialminus": [
            [
             0,
             "#0d0887"
            ],
            [
             0.1111111111111111,
             "#46039f"
            ],
            [
             0.2222222222222222,
             "#7201a8"
            ],
            [
             0.3333333333333333,
             "#9c179e"
            ],
            [
             0.4444444444444444,
             "#bd3786"
            ],
            [
             0.5555555555555556,
             "#d8576b"
            ],
            [
             0.6666666666666666,
             "#ed7953"
            ],
            [
             0.7777777777777778,
             "#fb9f3a"
            ],
            [
             0.8888888888888888,
             "#fdca26"
            ],
            [
             1,
             "#f0f921"
            ]
           ]
          },
          "colorway": [
           "#636efa",
           "#EF553B",
           "#00cc96",
           "#ab63fa",
           "#FFA15A",
           "#19d3f3",
           "#FF6692",
           "#B6E880",
           "#FF97FF",
           "#FECB52"
          ],
          "font": {
           "color": "#2a3f5f"
          },
          "geo": {
           "bgcolor": "white",
           "lakecolor": "white",
           "landcolor": "#E5ECF6",
           "showlakes": true,
           "showland": true,
           "subunitcolor": "white"
          },
          "hoverlabel": {
           "align": "left"
          },
          "hovermode": "closest",
          "mapbox": {
           "style": "light"
          },
          "paper_bgcolor": "white",
          "plot_bgcolor": "#E5ECF6",
          "polar": {
           "angularaxis": {
            "gridcolor": "white",
            "linecolor": "white",
            "ticks": ""
           },
           "bgcolor": "#E5ECF6",
           "radialaxis": {
            "gridcolor": "white",
            "linecolor": "white",
            "ticks": ""
           }
          },
          "scene": {
           "xaxis": {
            "backgroundcolor": "#E5ECF6",
            "gridcolor": "white",
            "gridwidth": 2,
            "linecolor": "white",
            "showbackground": true,
            "ticks": "",
            "zerolinecolor": "white"
           },
           "yaxis": {
            "backgroundcolor": "#E5ECF6",
            "gridcolor": "white",
            "gridwidth": 2,
            "linecolor": "white",
            "showbackground": true,
            "ticks": "",
            "zerolinecolor": "white"
           },
           "zaxis": {
            "backgroundcolor": "#E5ECF6",
            "gridcolor": "white",
            "gridwidth": 2,
            "linecolor": "white",
            "showbackground": true,
            "ticks": "",
            "zerolinecolor": "white"
           }
          },
          "shapedefaults": {
           "line": {
            "color": "#2a3f5f"
           }
          },
          "ternary": {
           "aaxis": {
            "gridcolor": "white",
            "linecolor": "white",
            "ticks": ""
           },
           "baxis": {
            "gridcolor": "white",
            "linecolor": "white",
            "ticks": ""
           },
           "bgcolor": "#E5ECF6",
           "caxis": {
            "gridcolor": "white",
            "linecolor": "white",
            "ticks": ""
           }
          },
          "title": {
           "x": 0.05
          },
          "xaxis": {
           "automargin": true,
           "gridcolor": "white",
           "linecolor": "white",
           "ticks": "",
           "title": {
            "standoff": 15
           },
           "zerolinecolor": "white",
           "zerolinewidth": 2
          },
          "yaxis": {
           "automargin": true,
           "gridcolor": "white",
           "linecolor": "white",
           "ticks": "",
           "title": {
            "standoff": 15
           },
           "zerolinecolor": "white",
           "zerolinewidth": 2
          }
         }
        }
       }
      },
      "image/png": "[encoded data removed]",
      "text/html": [
       "<div>                            <div id=\"8f7fb9f4-3fe8-49c3-a5d2-8f8341e49008\" class=\"plotly-graph-div\" style=\"height:525px; width:100%;\"></div>            <script type=\"text/javascript\">                require([\"plotly\"], function(Plotly) {                    window.PLOTLYENV=window.PLOTLYENV || {};                                    if (document.getElementById(\"8f7fb9f4-3fe8-49c3-a5d2-8f8341e49008\")) {                    Plotly.newPlot(                        \"8f7fb9f4-3fe8-49c3-a5d2-8f8341e49008\",                        [{\"fill\":\"toself\",\"line\":{\"shape\":\"spline\"},\"mode\":\"lines\",\"name\":\"Longs Peak\",\"r\":[5,3.903846153846154,4.760000000000001,3.5,5],\"subplot\":\"polar\",\"theta\":[\"Difficulty\",\"Distance (mi)\",\"Elevation Gain (ft)\",\"Traffic High\",\"Difficulty\"],\"type\":\"scatterpolar\"}],                        {\"polar\":{\"radialaxis\":{\"range\":[0,7],\"showticklabels\":false,\"visible\":true}},\"showlegend\":true,\"template\":{\"data\":{\"bar\":[{\"error_x\":{\"color\":\"#2a3f5f\"},\"error_y\":{\"color\":\"#2a3f5f\"},\"marker\":{\"line\":{\"color\":\"#E5ECF6\",\"width\":0.5},\"pattern\":{\"fillmode\":\"overlay\",\"size\":10,\"solidity\":0.2}},\"type\":\"bar\"}],\"barpolar\":[{\"marker\":{\"line\":{\"color\":\"#E5ECF6\",\"width\":0.5},\"pattern\":{\"fillmode\":\"overlay\",\"size\":10,\"solidity\":0.2}},\"type\":\"barpolar\"}],\"carpet\":[{\"aaxis\":{\"endlinecolor\":\"#2a3f5f\",\"gridcolor\":\"white\",\"linecolor\":\"white\",\"minorgridcolor\":\"white\",\"startlinecolor\":\"#2a3f5f\"},\"baxis\":{\"endlinecolor\":\"#2a3f5f\",\"gridcolor\":\"white\",\"linecolor\":\"white\",\"minorgridcolor\":\"white\",\"startlinecolor\":\"#2a3f5f\"},\"type\":\"carpet\"}],\"choropleth\":[{\"colorbar\":{\"outlinewidth\":0,\"ticks\":\"\"},\"type\":\"choropleth\"}],\"contour\":[{\"colorbar\":{\"outlinewidth\":0,\"ticks\":\"\"},\"colorscale\":[[0.0,\"#0d0887\"],[0.1111111111111111,\"#46039f\"],[0.2222222222222222,\"#7201a8\"],[0.3333333333333333,\"#9c179e\"],[0.4444444444444444,\"#bd3786\"],[0.5555555555555556,\"#d8576b\"],[0.6666666666666666,\"#ed7953\"],[0.7777777777777778,\"#fb9f3a\"],[0.8888888888888888,\"#fdca26\"],[1.0,\"#f0f921\"]],\"type\":\"contour\"}],\"contourcarpet\":[{\"colorbar\":{\"outlinewidth\":0,\"ticks\":\"\"},\"type\":\"contourcarpet\"}],\"heatmap\":[{\"colorbar\":{\"outlinewidth\":0,\"ticks\":\"\"},\"colorscale\":[[0.0,\"#0d0887\"],[0.1111111111111111,\"#46039f\"],[0.2222222222222222,\"#7201a8\"],[0.3333333333333333,\"#9c179e\"],[0.4444444444444444,\"#bd3786\"],[0.5555555555555556,\"#d8576b\"],[0.6666666666666666,\"#ed7953\"],[0.7777777777777778,\"#fb9f3a\"],[0.8888888888888888,\"#fdca26\"],[1.0,\"#f0f921\"]],\"type\":\"heatmap\"}],\"heatmapgl\":[{\"colorbar\":{\"outlinewidth\":0,\"ticks\":\"\"},\"colorscale\":[[0.0,\"#0d0887\"],[0.1111111111111111,\"#46039f\"],[0.2222222222222222,\"#7201a8\"],[0.3333333333333333,\"#9c179e\"],[0.4444444444444444,\"#bd3786\"],[0.5555555555555556,\"#d8576b\"],[0.6666666666666666,\"#ed7953\"],[0.7777777777777778,\"#fb9f3a\"],[0.8888888888888888,\"#fdca26\"],[1.0,\"#f0f921\"]],\"type\":\"heatmapgl\"}],\"histogram\":[{\"marker\":{\"pattern\":{\"fillmode\":\"overlay\",\"size\":10,\"solidity\":0.2}},\"type\":\"histogram\"}],\"histogram2d\":[{\"colorbar\":{\"outlinewidth\":0,\"ticks\":\"\"},\"colorscale\":[[0.0,\"#0d0887\"],[0.1111111111111111,\"#46039f\"],[0.2222222222222222,\"#7201a8\"],[0.3333333333333333,\"#9c179e\"],[0.4444444444444444,\"#bd3786\"],[0.5555555555555556,\"#d8576b\"],[0.6666666666666666,\"#ed7953\"],[0.7777777777777778,\"#fb9f3a\"],[0.8888888888888888,\"#fdca26\"],[1.0,\"#f0f921\"]],\"type\":\"histogram2d\"}],\"histogram2dcontour\":[{\"colorbar\":{\"outlinewidth\":0,\"ticks\":\"\"},\"colorscale\":[[0.0,\"#0d0887\"],[0.1111111111111111,\"#46039f\"],[0.2222222222222222,\"#7201a8\"],[0.3333333333333333,\"#9c179e\"],[0.4444444444444444,\"#bd3786\"],[0.5555555555555556,\"#d8576b\"],[0.6666666666666666,\"#ed7953\"],[0.7777777777777778,\"#fb9f3a\"],[0.8888888888888888,\"#fdca26\"],[1.0,\"#f0f921\"]],\"type\":\"histogram2dcontour\"}],\"mesh3d\":[{\"colorbar\":{\"outlinewidth\":0,\"ticks\":\"\"},\"type\":\"mesh3d\"}],\"parcoords\":[{\"line\":{\"colorbar\":{\"outlinewidth\":0,\"ticks\":\"\"}},\"type\":\"parcoords\"}],\"pie\":[{\"automargin\":true,\"type\":\"pie\"}],\"scatter\":[{\"marker\":{\"colorbar\":{\"outlinewidth\":0,\"ticks\":\"\"}},\"type\":\"scatter\"}],\"scatter3d\":[{\"line\":{\"colorbar\":{\"outlinewidth\":0,\"ticks\":\"\"}},\"marker\":{\"colorbar\":{\"outlinewidth\":0,\"ticks\":\"\"}},\"type\":\"scatter3d\"}],\"scattercarpet\":[{\"marker\":{\"colorbar\":{\"outlinewidth\":0,\"ticks\":\"\"}},\"type\":\"scattercarpet\"}],\"scattergeo\":[{\"marker\":{\"colorbar\":{\"outlinewidth\":0,\"ticks\":\"\"}},\"type\":\"scattergeo\"}],\"scattergl\":[{\"marker\":{\"colorbar\":{\"outlinewidth\":0,\"ticks\":\"\"}},\"type\":\"scattergl\"}],\"scattermapbox\":[{\"marker\":{\"colorbar\":{\"outlinewidth\":0,\"ticks\":\"\"}},\"type\":\"scattermapbox\"}],\"scatterpolar\":[{\"marker\":{\"colorbar\":{\"outlinewidth\":0,\"ticks\":\"\"}},\"type\":\"scatterpolar\"}],\"scatterpolargl\":[{\"marker\":{\"colorbar\":{\"outlinewidth\":0,\"ticks\":\"\"}},\"type\":\"scatterpolargl\"}],\"scatterternary\":[{\"marker\":{\"colorbar\":{\"outlinewidth\":0,\"ticks\":\"\"}},\"type\":\"scatterternary\"}],\"surface\":[{\"colorbar\":{\"outlinewidth\":0,\"ticks\":\"\"},\"colorscale\":[[0.0,\"#0d0887\"],[0.1111111111111111,\"#46039f\"],[0.2222222222222222,\"#7201a8\"],[0.3333333333333333,\"#9c179e\"],[0.4444444444444444,\"#bd3786\"],[0.5555555555555556,\"#d8576b\"],[0.6666666666666666,\"#ed7953\"],[0.7777777777777778,\"#fb9f3a\"],[0.8888888888888888,\"#fdca26\"],[1.0,\"#f0f921\"]],\"type\":\"surface\"}],\"table\":[{\"cells\":{\"fill\":{\"color\":\"#EBF0F8\"},\"line\":{\"color\":\"white\"}},\"header\":{\"fill\":{\"color\":\"#C8D4E3\"},\"line\":{\"color\":\"white\"}},\"type\":\"table\"}]},\"layout\":{\"annotationdefaults\":{\"arrowcolor\":\"#2a3f5f\",\"arrowhead\":0,\"arrowwidth\":1},\"autotypenumbers\":\"strict\",\"coloraxis\":{\"colorbar\":{\"outlinewidth\":0,\"ticks\":\"\"}},\"colorscale\":{\"diverging\":[[0,\"#8e0152\"],[0.1,\"#c51b7d\"],[0.2,\"#de77ae\"],[0.3,\"#f1b6da\"],[0.4,\"#fde0ef\"],[0.5,\"#f7f7f7\"],[0.6,\"#e6f5d0\"],[0.7,\"#b8e186\"],[0.8,\"#7fbc41\"],[0.9,\"#4d9221\"],[1,\"#276419\"]],\"sequential\":[[0.0,\"#0d0887\"],[0.1111111111111111,\"#46039f\"],[0.2222222222222222,\"#7201a8\"],[0.3333333333333333,\"#9c179e\"],[0.4444444444444444,\"#bd3786\"],[0.5555555555555556,\"#d8576b\"],[0.6666666666666666,\"#ed7953\"],[0.7777777777777778,\"#fb9f3a\"],[0.8888888888888888,\"#fdca26\"],[1.0,\"#f0f921\"]],\"sequentialminus\":[[0.0,\"#0d0887\"],[0.1111111111111111,\"#46039f\"],[0.2222222222222222,\"#7201a8\"],[0.3333333333333333,\"#9c179e\"],[0.4444444444444444,\"#bd3786\"],[0.5555555555555556,\"#d8576b\"],[0.6666666666666666,\"#ed7953\"],[0.7777777777777778,\"#fb9f3a\"],[0.8888888888888888,\"#fdca26\"],[1.0,\"#f0f921\"]]},\"colorway\":[\"#636efa\",\"#EF553B\",\"#00cc96\",\"#ab63fa\",\"#FFA15A\",\"#19d3f3\",\"#FF6692\",\"#B6E880\",\"#FF97FF\",\"#FECB52\"],\"font\":{\"color\":\"#2a3f5f\"},\"geo\":{\"bgcolor\":\"white\",\"lakecolor\":\"white\",\"landcolor\":\"#E5ECF6\",\"showlakes\":true,\"showland\":true,\"subunitcolor\":\"white\"},\"hoverlabel\":{\"align\":\"left\"},\"hovermode\":\"closest\",\"mapbox\":{\"style\":\"light\"},\"paper_bgcolor\":\"white\",\"plot_bgcolor\":\"#E5ECF6\",\"polar\":{\"angularaxis\":{\"gridcolor\":\"white\",\"linecolor\":\"white\",\"ticks\":\"\"},\"bgcolor\":\"#E5ECF6\",\"radialaxis\":{\"gridcolor\":\"white\",\"linecolor\":\"white\",\"ticks\":\"\"}},\"scene\":{\"xaxis\":{\"backgroundcolor\":\"#E5ECF6\",\"gridcolor\":\"white\",\"gridwidth\":2,\"linecolor\":\"white\",\"showbackground\":true,\"ticks\":\"\",\"zerolinecolor\":\"white\"},\"yaxis\":{\"backgroundcolor\":\"#E5ECF6\",\"gridcolor\":\"white\",\"gridwidth\":2,\"linecolor\":\"white\",\"showbackground\":true,\"ticks\":\"\",\"zerolinecolor\":\"white\"},\"zaxis\":{\"backgroundcolor\":\"#E5ECF6\",\"gridcolor\":\"white\",\"gridwidth\":2,\"linecolor\":\"white\",\"showbackground\":true,\"ticks\":\"\",\"zerolinecolor\":\"white\"}},\"shapedefaults\":{\"line\":{\"color\":\"#2a3f5f\"}},\"ternary\":{\"aaxis\":{\"gridcolor\":\"white\",\"linecolor\":\"white\",\"ticks\":\"\"},\"baxis\":{\"gridcolor\":\"white\",\"linecolor\":\"white\",\"ticks\":\"\"},\"bgcolor\":\"#E5ECF6\",\"caxis\":{\"gridcolor\":\"white\",\"linecolor\":\"white\",\"ticks\":\"\"}},\"title\":{\"x\":0.05},\"xaxis\":{\"automargin\":true,\"gridcolor\":\"white\",\"linecolor\":\"white\",\"ticks\":\"\",\"title\":{\"standoff\":15},\"zerolinecolor\":\"white\",\"zerolinewidth\":2},\"yaxis\":{\"automargin\":true,\"gridcolor\":\"white\",\"linecolor\":\"white\",\"ticks\":\"\",\"title\":{\"standoff\":15},\"zerolinecolor\":\"white\",\"zerolinewidth\":2}}}},                        {\"responsive\": true}                    ).then(function(){\n",
       "                            \n",
       "var gd = document.getElementById('8f7fb9f4-3fe8-49c3-a5d2-8f8341e49008');\n",
       "var x = new MutationObserver(function (mutations, observer) {{\n",
       "        var display = window.getComputedStyle(gd).display;\n",
       "        if (!display || display === 'none') {{\n",
       "            console.log([gd, 'removed!']);\n",
       "            Plotly.purge(gd);\n",
       "            observer.disconnect();\n",
       "        }}\n",
       "}});\n",
       "\n",
       "// Listen for the removal of the full notebook cells\n",
       "var notebookContainer = gd.closest('#notebook-container');\n",
       "if (notebookContainer) {{\n",
       "    x.observe(notebookContainer, {childList: true});\n",
       "}}\n",
       "\n",
       "// Listen for the clearing of the current output cell\n",
       "var outputEl = gd.closest('.output');\n",
       "if (outputEl) {{\n",
       "    x.observe(outputEl, {childList: true});\n",
       "}}\n",
       "\n",
       "                        })                };                });            </script>        </div>"
      ]
     },
     "metadata": {},
     "output_type": "display_data"
    }
   ],
   "source": [
    "fig = go.Figure()\n",
    "\n",
    "\n",
    "fig.add_trace(go.Scatterpolar(\n",
    "        name = 'Longs Peak',\n",
    "        mode = \"lines\",\n",
    "        theta = ['Difficulty', 'Distance (mi)', 'Elevation Gain (ft)', 'Traffic High', 'Difficulty'],\n",
    "        r = (longs_peak['Difficulty'].values[0], longs_peak['Distance_mi'].values[0],\n",
    "                longs_peak['Elevation Gain_ft'].values[0], longs_peak['Traffic High'].values[0],\n",
    "                longs_peak['Difficulty'].values[0]),\n",
    "        fill = \"toself\",\n",
    "        line =dict( shape = 'spline'),\n",
    "        subplot = \"polar\"),\n",
    "        \n",
    "             )\n",
    "fig.update_layout(\n",
    "   showlegend = True,  \n",
    "  polar=dict(\n",
    "    radialaxis=dict(\n",
    "    visible=True,\n",
    "    range=[0, 7],\n",
    "    showticklabels = False\n",
    "    )))\n",
    "\n",
    "\n",
    "fig.show()"
   ]
  },
  {
   "cell_type": "code",
   "execution_count": null,
   "id": "fff086a8-1f27-40ed-9aa9-c92a81c9dbdf",
   "metadata": {},
   "outputs": [],
   "source": [
    "# next add git, do first commit. Add pylint "
   ]
  }
 ],
 "metadata": {
  "kernelspec": {
   "display_name": "Python 3 (ipykernel)",
   "language": "python",
   "name": "python3"
  },
  "language_info": {
   "codemirror_mode": {
    "name": "ipython",
    "version": 3
   },
   "file_extension": ".py",
   "mimetype": "text/x-python",
   "name": "python",
   "nbconvert_exporter": "python",
   "pygments_lexer": "ipython3",
   "version": "3.9.7"
  }
 },
 "nbformat": 4,
 "nbformat_minor": 5
}
